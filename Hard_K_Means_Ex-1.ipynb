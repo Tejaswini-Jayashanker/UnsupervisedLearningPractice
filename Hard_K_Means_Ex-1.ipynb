{
 "cells": [
  {
   "cell_type": "code",
   "execution_count": 19,
   "id": "789c2083",
   "metadata": {},
   "outputs": [
    {
     "data": {
      "text/plain": [
       "'\\nUDEMY - Cluster Analysis and Unsupervised Learning in Python.\\nHard K-Means Practice Exercise -1:\\n    1. Generate Synthetic Dataset - X (N x D)\\n        where N = Number of Samples\\n        and   D = Number of Features.\\n    \\n    2. Generate cluster identities - Y (N)\\n    \\n    3. Calculate mean of each cluster for all clusters.\\n    \\n    4. Plot the Initial data using scatter plot and the clustered data,\\n    use different colours for centroids.\\n    \\n'"
      ]
     },
     "execution_count": 19,
     "metadata": {},
     "output_type": "execute_result"
    }
   ],
   "source": [
    "'''\n",
    "UDEMY - Cluster Analysis and Unsupervised Learning in Python.\n",
    "Hard K-Means Practice Exercise -1:\n",
    "    1. Generate Synthetic Dataset - X (N x D)\n",
    "        where N = Number of Samples\n",
    "        and   D = Number of Features.\n",
    "    \n",
    "    2. Generate cluster identities - Y (N)\n",
    "    \n",
    "    3. Calculate mean of each cluster for all clusters.\n",
    "    \n",
    "    4. Plot the Initial data using scatter plot and the clustered data,\n",
    "    use different colours for centroids.\n",
    "    \n",
    "'''"
   ]
  },
  {
   "cell_type": "code",
   "execution_count": 20,
   "id": "4a3089f5",
   "metadata": {},
   "outputs": [],
   "source": [
    "#Import Libraries\n",
    "import numpy as np\n",
    "import matplotlib.pyplot as plt\n",
    "%matplotlib inline"
   ]
  },
  {
   "cell_type": "code",
   "execution_count": 21,
   "id": "c2b8c3dd",
   "metadata": {},
   "outputs": [],
   "source": [
    "#Dataset Generation Configuration\n",
    "K = 5 # Number of Clusters/Cluster Centroids\n",
    "N = 5000 #Number of Samples\n",
    "D = 2 #number of Features, Simple assumtion -> (2-D Dataset) "
   ]
  },
  {
   "cell_type": "code",
   "execution_count": 27,
   "id": "d6a676f0",
   "metadata": {},
   "outputs": [],
   "source": [
    "#Creating own Data\n",
    "''' One simple idea is to draw out 5 samples from 5 different Gaussian \n",
    "    Distributions, each with a different mean. \n",
    "    WKT, A Gaussian distribution is identified by its Mean and Covariance(variance).\n",
    "    Mean - Where the gaussian is located.\n",
    "    Covariance - How data points from the gaussian will spread out.\n",
    "    '''\n",
    "\n",
    "mu_1 = np.array( [0,0] )\n",
    "mu_2 = np.array( [20,20] )\n",
    "mu_3 = np.array( [50,50] )\n",
    "mu_4 = np.array( [10,10] )\n",
    "mu_5 = np.array( [35,35] )\n",
    "\n",
    "#Create X of dims (N x D)\n",
    "X = np.zeros( ( N ,D ) )\n",
    "\n",
    "#Populate X:\n",
    "X[ :1000, : ] = np.random.randn( 1000, D ) + mu_1 #Centered at Mu-1\n",
    "X[ 1000 : 2000, : ] = np.random.randn( 1000, D ) + mu_2\n",
    "X[ 2000 : 3000, : ] = np.random.randn( 1000, D ) + mu_3\n",
    "X[ 3000 : 4000, : ] = np.random.randn( 1000, D ) + mu_4\n",
    "X[ 4000 : , : ] = np.random.randn( 1000, D ) + mu_5\n",
    "\n",
    "#Cluster Identity\n",
    "                        #Labels = 0,1,2,3,4\n",
    "Y = np.array( [0]*1000 + [1]*1000 + [2]*1000 + [3]*1000 + [4]*1000 )\n"
   ]
  },
  {
   "cell_type": "code",
   "execution_count": 28,
   "id": "a45759d6",
   "metadata": {},
   "outputs": [
    {
     "data": {
      "text/plain": [
       "<matplotlib.collections.PathCollection at 0x1ac9581e400>"
      ]
     },
     "execution_count": 28,
     "metadata": {},
     "output_type": "execute_result"
    },
    {
     "data": {
      "image/png": "[encoded data removed]",
      "text/plain": [
       "<Figure size 432x288 with 1 Axes>"
      ]
     },
     "metadata": {
      "needs_background": "light"
     },
     "output_type": "display_data"
    }
   ],
   "source": [
    "#Scatter plot to visualize the data:\n",
    "plt.scatter( X[:,0] , X[:,1], c = Y ) #2d Data, 2 coulmns"
   ]
  },
  {
   "cell_type": "code",
   "execution_count": 29,
   "id": "1279b59d",
   "metadata": {},
   "outputs": [
    {
     "data": {
      "text/plain": [
       "(2,)"
      ]
     },
     "execution_count": 29,
     "metadata": {},
     "output_type": "execute_result"
    }
   ],
   "source": [
    "#To understand - We need to get mean vector of X whose dims = D\n",
    "X.mean( axis = 0 ).shape #take mean across N - Samples => d dim array"
   ]
  },
  {
   "cell_type": "code",
   "execution_count": 30,
   "id": "231f1947",
   "metadata": {},
   "outputs": [],
   "source": [
    "#Find mean of each cluster.\n",
    "means = np.zeros( ( K, D ) )\n",
    "\n",
    "means[ 0, : ] = X[ Y == 0 ].mean( axis = 0 )\n",
    "means[ 1, : ] = X[ Y == 1 ].mean( axis = 0 )\n",
    "means[ 2, : ] = X[ Y == 2 ].mean( axis = 0 )\n",
    "means[ 3, : ] = X[ Y == 3 ].mean( axis = 0 )\n",
    "means[ 4, : ] = X[ Y == 4 ].mean( axis = 0 )\n"
   ]
  },
  {
   "cell_type": "code",
   "execution_count": 31,
   "id": "85d610ec",
   "metadata": {},
   "outputs": [
    {
     "data": {
      "text/plain": [
       "<matplotlib.collections.PathCollection at 0x1ac95872550>"
      ]
     },
     "execution_count": 31,
     "metadata": {},
     "output_type": "execute_result"
    },
    {
     "data": {
      "image/png": "[encoded data removed]",
      "text/plain": [
       "<Figure size 432x288 with 1 Axes>"
      ]
     },
     "metadata": {
      "needs_background": "light"
     },
     "output_type": "display_data"
    }
   ],
   "source": [
    "#plot the data with its centroid.\n",
    "plt.scatter( X[ :, 0 ], X[ :, 1 ], c = Y ) #Actual Data Set\n",
    "plt.scatter( means[:,0], means[:,1], s = 50, c = 'red', marker = '*' ) #with Centroids."
   ]
  },
  {
   "cell_type": "code",
   "execution_count": null,
   "id": "21cbcf00",
   "metadata": {},
   "outputs": [],
   "source": []
  },
  {
   "cell_type": "code",
   "execution_count": null,
   "id": "17125b6a",
   "metadata": {},
   "outputs": [],
   "source": []
  }
 ],
 "metadata": {
  "kernelspec": {
   "display_name": "Python 3",
   "language": "python",
   "name": "python3"
  },
  "language_info": {
   "codemirror_mode": {
    "name": "ipython",
    "version": 3
   },
   "file_extension": ".py",
   "mimetype": "text/x-python",
   "name": "python",
   "nbconvert_exporter": "python",
   "pygments_lexer": "ipython3",
   "version": "3.8.8"
  }
 },
 "nbformat": 4,
 "nbformat_minor": 5
}
