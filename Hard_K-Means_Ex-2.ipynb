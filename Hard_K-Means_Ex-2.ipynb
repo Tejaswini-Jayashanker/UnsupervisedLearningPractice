{
 "cells": [
  {
   "cell_type": "code",
   "execution_count": null,
   "id": "ad05f79a",
   "metadata": {},
   "outputs": [],
   "source": [
    "'''\n",
    "    UDEMY - Cluster Analysis and Unsupervised Learning using Python.\n",
    "\n",
    "Exercise - 2:\n",
    "        1. Geneate Mean Array (K x D).\n",
    "        2. Generate Data Matrix (N x D)\n",
    "'''"
   ]
  },
  {
   "cell_type": "code",
   "execution_count": 1,
   "id": "6104a0f2",
   "metadata": {},
   "outputs": [],
   "source": [
    "#import libraries\n",
    "import numpy as np\n",
    "import matplotlib.pyplot as plt"
   ]
  },
  {
   "cell_type": "code",
   "execution_count": 2,
   "id": "485724e7",
   "metadata": {},
   "outputs": [],
   "source": [
    "#Defining Data set Configurations\n",
    "K = 5\n",
    "N = 1000\n",
    "D = 2"
   ]
  },
  {
   "cell_type": "code",
   "execution_count": 9,
   "id": "afa0fe28",
   "metadata": {},
   "outputs": [
    {
     "name": "stdout",
     "output_type": "stream",
     "text": [
      "[[ 0  0]\n",
      " [10 10]\n",
      " [25 25]\n",
      " [30 30]\n",
      " [45 45]]\n"
     ]
    }
   ],
   "source": [
    "#Defining Randomly picked means\n",
    "mu_1 = np.array( [0,0] )\n",
    "mu_2 = np.array( [10,10] )\n",
    "mu_3 = np.array( [25,25] )\n",
    "mu_4 = np.array( [30,30] )\n",
    "mu_5 = np.array( [45,45] )\n",
    "\n",
    "means = np.array( [ mu_1, mu_2, mu_3, mu_4, mu_5 ] )\n",
    "print(means)"
   ]
  },
  {
   "cell_type": "code",
   "execution_count": 6,
   "id": "b4fd676e",
   "metadata": {},
   "outputs": [],
   "source": [
    "#Generating the Data set  - X\n",
    "X = np.zeros( ( N, D ) )\n",
    "\n",
    "#populating the dataset\n",
    "X[ :200, : ] = np.random.randn(  200, D  ) + mu_1\n",
    "X[ 200:400, : ] = np.random.randn( 200, D ) + mu_2\n",
    "X[ 400:600, : ] = np.random.randn( 200, D ) + mu_3\n",
    "X[ 600:800, : ] = np.random.randn( 200, D ) + mu_4\n",
    "X[ 800:, : ] = np.random.randn( 200, D ) + mu_5"
   ]
  },
  {
   "cell_type": "code",
   "execution_count": 14,
   "id": "6fabe4c5",
   "metadata": {},
   "outputs": [],
   "source": [
    "#Finding Y or Labels\n",
    "Y = np.zeros( N ) # We need cluster identity for each of the datapoint in X.\n",
    "\n",
    "for n_dp in range( N ):\n",
    "    closest_cluster = -1 #initially\n",
    "    min_dist = float( 'inf' )\n",
    "    \n",
    "    for n_clus in range( K ):\n",
    "        #Squared Eculidean distance\n",
    "        dist = ( X[ n_dp ] - means[ n_clus ] ).dot( X[ n_dp ] - means[ n_clus ] )\n",
    "        \n",
    "        if dist < min_dist:\n",
    "            min_dist = dist\n",
    "            closest_cluster = n_clus\n",
    "    Y[ n_dp ] = closest_cluster\n",
    "\n"
   ]
  },
  {
   "cell_type": "code",
   "execution_count": 15,
   "id": "a51f0822",
   "metadata": {},
   "outputs": [
    {
     "data": {
      "text/plain": [
       "<matplotlib.collections.PathCollection at 0x1a53b461e50>"
      ]
     },
     "execution_count": 15,
     "metadata": {},
     "output_type": "execute_result"
    },
    {
     "data": {
      "image/png": "[encoded data removed]",
      "text/plain": [
       "<Figure size 432x288 with 1 Axes>"
      ]
     },
     "metadata": {
      "needs_background": "light"
     },
     "output_type": "display_data"
    }
   ],
   "source": [
    "#Plotting the data\n",
    "\n",
    "plt.scatter( X[:,0], X[:,1], c = Y )"
   ]
  },
  {
   "cell_type": "code",
   "execution_count": null,
   "id": "8892fb26",
   "metadata": {},
   "outputs": [],
   "source": []
  }
 ],
 "metadata": {
  "kernelspec": {
   "display_name": "Python 3",
   "language": "python",
   "name": "python3"
  },
  "language_info": {
   "codemirror_mode": {
    "name": "ipython",
    "version": 3
   },
   "file_extension": ".py",
   "mimetype": "text/x-python",
   "name": "python",
   "nbconvert_exporter": "python",
   "pygments_lexer": "ipython3",
   "version": "3.8.8"
  }
 },
 "nbformat": 4,
 "nbformat_minor": 5
}
